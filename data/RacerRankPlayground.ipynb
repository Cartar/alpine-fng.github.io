{
 "cells": [
  {
   "cell_type": "code",
   "execution_count": 1,
   "id": "21bfc56d-30df-4348-ba6e-936d1b2f04e6",
   "metadata": {},
   "outputs": [],
   "source": [
    "import pandas as pd\n",
    "import numpy as np\n",
    "import sqlite3"
   ]
  },
  {
   "cell_type": "code",
   "execution_count": 2,
   "id": "fc768223-4c60-4887-a7e8-a99ccce3cdd3",
   "metadata": {},
   "outputs": [],
   "source": [
    "# Set the database path to a location with write permissions\n",
    "db_path = '../race_league_results.db'\n",
    "\n",
    "# Connect to SQLite database (or create it if it doesn't exist)\n",
    "conn = sqlite3.connect(db_path)\n",
    "cursor = conn.cursor()\n"
   ]
  },
  {
   "cell_type": "markdown",
   "id": "64a01cf2-28ff-42d8-bb52-17a8d91f0389",
   "metadata": {},
   "source": [
    "# How to rank...\n",
    "1. Determine each racer's percentile for every race\n",
    "2. Get a median percentile for the year\n",
    "3. Ranking is based on your last 3 years -> take median from last year, or the median before that, or 3 years past. If non exist, use the all time median. Otherwise, Null...\n",
    "\n",
    "```py\n",
    "df['_percentile'] = df.groupby('race_id')['_time'].rank(pct=True, ascending=True)\n",
    "    \n",
    "    # Calculating median percentile rank for each racer per year\n",
    "    median_percentiles = df.groupby(['racer_id', 'year'])['_percentile'].median().reset_index()\n",
    "```"
   ]
  },
  {
   "cell_type": "code",
   "execution_count": null,
   "id": "7ede3261-a10b-471d-ba54-dd0f38a93057",
   "metadata": {},
   "outputs": [],
   "source": []
  }
 ],
 "metadata": {
  "kernelspec": {
   "display_name": "Python 3 (ipykernel)",
   "language": "python",
   "name": "python3"
  },
  "language_info": {
   "codemirror_mode": {
    "name": "ipython",
    "version": 3
   },
   "file_extension": ".py",
   "mimetype": "text/x-python",
   "name": "python",
   "nbconvert_exporter": "python",
   "pygments_lexer": "ipython3",
   "version": "3.10.15"
  }
 },
 "nbformat": 4,
 "nbformat_minor": 5
}
