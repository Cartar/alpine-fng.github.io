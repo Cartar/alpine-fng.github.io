{
 "cells": [
  {
   "cell_type": "markdown",
   "id": "cb662bb2-0c13-4407-a08e-3defbcf17b12",
   "metadata": {},
   "source": [
    "# Need to figure out how to confirm that the format is correct..."
   ]
  },
  {
   "cell_type": "code",
   "execution_count": null,
   "id": "a1f52a1e-d5bd-4d01-a8b9-e51f27933d9d",
   "metadata": {},
   "outputs": [],
   "source": [
    "# FORMAT TESTING...."
   ]
  },
  {
   "cell_type": "code",
   "execution_count": 1,
   "id": "d83f4ca2-f8dc-4a59-ace3-7e152c82f645",
   "metadata": {},
   "outputs": [],
   "source": [
    "def dup_entries(df):\n",
    "    duplicates = df[df.duplicated(subset=['racer_id', 'discipline'], keep=False)]\n",
    "    \n",
    "    if not duplicates.empty:\n",
    "        print(\"Found duplicates for (racer_id, discipline):\")\n",
    "        return duplicates\n",
    "    else:\n",
    "        print(\"No duplicates found.\")\n",
    "        return None"
   ]
  },
  {
   "cell_type": "markdown",
   "id": "4d3af9a4-d962-42d2-9c82-70a612099b00",
   "metadata": {},
   "source": [
    "# Create the connection"
   ]
  },
  {
   "cell_type": "code",
   "execution_count": 3,
   "id": "a2685872-fe1b-447c-9d3c-2bae5f3a3e82",
   "metadata": {},
   "outputs": [],
   "source": [
    "import pandas as pd\n",
    "import sqlite3\n",
    "from helper_functions import upload_new_race_results\n",
    "\n",
    "# Set the database path to a location with write permissions\n",
    "db_path = '../race_league_results.db'\n",
    "\n",
    "# Connect to SQLite database (or create it if it doesn't exist)\n",
    "conn = sqlite3.connect(db_path)\n",
    "cursor = conn.cursor()\n"
   ]
  },
  {
   "cell_type": "markdown",
   "id": "6d2c1683-2bd4-4bc8-aed7-f1af131d2fd4",
   "metadata": {},
   "source": [
    "# Upload timetrial data (just race results)"
   ]
  },
  {
   "cell_type": "code",
   "execution_count": 4,
   "id": "881b2de1-58ec-4e73-a99b-a3a2b80c650f",
   "metadata": {},
   "outputs": [],
   "source": [
    "import pandas as pd\n",
    "import numpy as np\n",
    "from helper_functions import clean_string, RACE_RESULT_COL_ORDER, upload_results"
   ]
  },
  {
   "cell_type": "code",
   "execution_count": 5,
   "id": "78e15faa-196b-41d3-a213-e505cbf4dba2",
   "metadata": {},
   "outputs": [],
   "source": [
    "result_cols = [\"bib\", \"discipline\", \"racer_id\", \"run1\", \"run2\"]\n",
    "df_load = pd.read_csv(\"2025/241229FnGRaceSimResultsBoth.csv\", header=None, names=result_cols)"
   ]
  },
  {
   "cell_type": "code",
   "execution_count": 6,
   "id": "7d587718-976f-44ba-bffb-a54fe9b5f805",
   "metadata": {},
   "outputs": [
    {
     "name": "stdout",
     "output_type": "stream",
     "text": [
      "No duplicates found.\n"
     ]
    }
   ],
   "source": [
    "df_load[\"racer_id\"] = df_load[\"racer_id\"].apply(clean_string)\n",
    "dup_entries(df_load)\n",
    "df_load.replace({'DNF': 9998,\"DSQ\": 9998, \"DNS\": 9999, pd.NA: 9999}, inplace=True)"
   ]
  },
  {
   "cell_type": "code",
   "execution_count": 7,
   "id": "d789f66d-b702-45db-b1d0-950daa011393",
   "metadata": {},
   "outputs": [
    {
     "data": {
      "text/html": [
       "<div>\n",
       "<style scoped>\n",
       "    .dataframe tbody tr th:only-of-type {\n",
       "        vertical-align: middle;\n",
       "    }\n",
       "\n",
       "    .dataframe tbody tr th {\n",
       "        vertical-align: top;\n",
       "    }\n",
       "\n",
       "    .dataframe thead th {\n",
       "        text-align: right;\n",
       "    }\n",
       "</style>\n",
       "<table border=\"1\" class=\"dataframe\">\n",
       "  <thead>\n",
       "    <tr style=\"text-align: right;\">\n",
       "      <th></th>\n",
       "      <th>bib</th>\n",
       "      <th>discipline</th>\n",
       "      <th>racer_id</th>\n",
       "      <th>run1</th>\n",
       "      <th>run2</th>\n",
       "    </tr>\n",
       "  </thead>\n",
       "  <tbody>\n",
       "    <tr>\n",
       "      <th>0</th>\n",
       "      <td>1</td>\n",
       "      <td>SKI</td>\n",
       "      <td>alexhenry</td>\n",
       "      <td>9999</td>\n",
       "      <td>9999</td>\n",
       "    </tr>\n",
       "    <tr>\n",
       "      <th>1</th>\n",
       "      <td>2</td>\n",
       "      <td>SKI</td>\n",
       "      <td>tonypetrella</td>\n",
       "      <td>9999</td>\n",
       "      <td>9999</td>\n",
       "    </tr>\n",
       "  </tbody>\n",
       "</table>\n",
       "</div>"
      ],
      "text/plain": [
       "   bib discipline      racer_id  run1  run2\n",
       "0    1        SKI     alexhenry  9999  9999\n",
       "1    2        SKI  tonypetrella  9999  9999"
      ]
     },
     "execution_count": 7,
     "metadata": {},
     "output_type": "execute_result"
    }
   ],
   "source": [
    "df_load.head(2)"
   ]
  },
  {
   "cell_type": "code",
   "execution_count": 8,
   "id": "60a16de6-f33d-4b5b-ad78-c7304a1262dc",
   "metadata": {},
   "outputs": [],
   "source": [
    "race_date = '12/29/2024'\n",
    "race_id = 241229\n",
    "description = '2025 Race Sim (time trials)'\n",
    "\n",
    "df_load['run1'] = pd.to_numeric(df_load['run1']) # errors='coerce')\n",
    "df_load['run2'] = pd.to_numeric(df_load['run2']) # errors='coerce')\n",
    "df_load['best_time'] = df_load[['run1', 'run2']].min(axis=1)\n",
    "df_load[\"points\"] = np.nan\n",
    "df_load[\"team\"] = np.nan\n",
    "df_load[\"tier\"] = np.nan\n",
    "df_load[\"race_id\"] = race_id"
   ]
  },
  {
   "cell_type": "code",
   "execution_count": 9,
   "id": "5172aa68-8fd7-486d-af84-d2e11ddabea9",
   "metadata": {},
   "outputs": [
    {
     "data": {
      "text/html": [
       "<div>\n",
       "<style scoped>\n",
       "    .dataframe tbody tr th:only-of-type {\n",
       "        vertical-align: middle;\n",
       "    }\n",
       "\n",
       "    .dataframe tbody tr th {\n",
       "        vertical-align: top;\n",
       "    }\n",
       "\n",
       "    .dataframe thead th {\n",
       "        text-align: right;\n",
       "    }\n",
       "</style>\n",
       "<table border=\"1\" class=\"dataframe\">\n",
       "  <thead>\n",
       "    <tr style=\"text-align: right;\">\n",
       "      <th></th>\n",
       "      <th>racer_id</th>\n",
       "      <th>discipline</th>\n",
       "      <th>team</th>\n",
       "      <th>tier</th>\n",
       "      <th>run1</th>\n",
       "      <th>run2</th>\n",
       "      <th>best_time</th>\n",
       "      <th>points</th>\n",
       "      <th>race_id</th>\n",
       "      <th>bib</th>\n",
       "    </tr>\n",
       "  </thead>\n",
       "  <tbody>\n",
       "    <tr>\n",
       "      <th>0</th>\n",
       "      <td>alexhenry</td>\n",
       "      <td>SKI</td>\n",
       "      <td>NaN</td>\n",
       "      <td>NaN</td>\n",
       "      <td>9999.0</td>\n",
       "      <td>9999.0</td>\n",
       "      <td>9999.0</td>\n",
       "      <td>NaN</td>\n",
       "      <td>241229</td>\n",
       "      <td>1</td>\n",
       "    </tr>\n",
       "    <tr>\n",
       "      <th>1</th>\n",
       "      <td>tonypetrella</td>\n",
       "      <td>SKI</td>\n",
       "      <td>NaN</td>\n",
       "      <td>NaN</td>\n",
       "      <td>9999.0</td>\n",
       "      <td>9999.0</td>\n",
       "      <td>9999.0</td>\n",
       "      <td>NaN</td>\n",
       "      <td>241229</td>\n",
       "      <td>2</td>\n",
       "    </tr>\n",
       "  </tbody>\n",
       "</table>\n",
       "</div>"
      ],
      "text/plain": [
       "       racer_id discipline  team  tier    run1    run2  best_time  points  \\\n",
       "0     alexhenry        SKI   NaN   NaN  9999.0  9999.0     9999.0     NaN   \n",
       "1  tonypetrella        SKI   NaN   NaN  9999.0  9999.0     9999.0     NaN   \n",
       "\n",
       "   race_id  bib  \n",
       "0   241229    1  \n",
       "1   241229    2  "
      ]
     },
     "execution_count": 9,
     "metadata": {},
     "output_type": "execute_result"
    }
   ],
   "source": [
    "df_load[RACE_RESULT_COL_ORDER].head(2)"
   ]
  },
  {
   "cell_type": "code",
   "execution_count": 12,
   "id": "1d371ad9-fa70-43d8-90d5-16671221f0be",
   "metadata": {},
   "outputs": [],
   "source": [
    "#upload_results(\n",
    "#    df_load[RACE_RESULT_COL_ORDER],\n",
    "#    race_id,\n",
    "#    race_date,\n",
    "#    description,\n",
    "#    conn\n",
    "#)"
   ]
  },
  {
   "cell_type": "code",
   "execution_count": null,
   "id": "2f54eaf9-4da2-4f56-9c5e-a29aeef8741d",
   "metadata": {},
   "outputs": [],
   "source": []
  },
  {
   "cell_type": "markdown",
   "id": "35cfc2e6-77ff-4a02-b092-503a2d44881c",
   "metadata": {},
   "source": [
    "# Update team data (new year start list!)"
   ]
  },
  {
   "cell_type": "code",
   "execution_count": null,
   "id": "fa7eb703-4a37-4d5c-9602-ec73c16c285e",
   "metadata": {},
   "outputs": [],
   "source": []
  },
  {
   "cell_type": "code",
   "execution_count": null,
   "id": "e8ba70c8-3e9f-4845-9be5-4a2f5abb1aab",
   "metadata": {},
   "outputs": [],
   "source": []
  },
  {
   "cell_type": "markdown",
   "id": "d9a88d78-0026-4b4d-a960-fead4dd12a61",
   "metadata": {},
   "source": [
    "# Upload race data (calc points)"
   ]
  },
  {
   "cell_type": "code",
   "execution_count": null,
   "id": "0062a7c3-e9d1-4851-9cc2-02d9ec798b5c",
   "metadata": {},
   "outputs": [],
   "source": [
    "path = 'data/2024/240218FnGResultsBoth.csv'\n",
    "race_date = '02/18/2024'\n",
    "race_id = 240218\n",
    "description = '2024 F&G Race #4'\n",
    "N_tiers=13\n",
    "N_teams=8 \n",
    "\n",
    "\"\"\" # Comment out for now\n",
    "upload_new_race_results(\n",
    "    path,\n",
    "    race_date,\n",
    "    race_id,\n",
    "    description,\n",
    "    N_tiers,\n",
    "    N_teams,\n",
    "    conn\n",
    ")\n",
    "\"\"\""
   ]
  }
 ],
 "metadata": {
  "kernelspec": {
   "display_name": "Python 3 (ipykernel)",
   "language": "python",
   "name": "python3"
  },
  "language_info": {
   "codemirror_mode": {
    "name": "ipython",
    "version": 3
   },
   "file_extension": ".py",
   "mimetype": "text/x-python",
   "name": "python",
   "nbconvert_exporter": "python",
   "pygments_lexer": "ipython3",
   "version": "3.10.15"
  }
 },
 "nbformat": 4,
 "nbformat_minor": 5
}
