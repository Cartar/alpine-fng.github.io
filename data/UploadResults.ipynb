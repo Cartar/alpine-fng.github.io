{
 "cells": [
  {
   "cell_type": "markdown",
   "id": "cb662bb2-0c13-4407-a08e-3defbcf17b12",
   "metadata": {},
   "source": [
    "# Need to figure out how to confirm that the format is correct..."
   ]
  },
  {
   "cell_type": "code",
   "execution_count": 1,
   "id": "d83f4ca2-f8dc-4a59-ace3-7e152c82f645",
   "metadata": {},
   "outputs": [],
   "source": [
    "def dup_entries(df):\n",
    "    duplicates = df[df.duplicated(subset=['racer_id', 'discipline'], keep=False)]\n",
    "    \n",
    "    if not duplicates.empty:\n",
    "        print(\"Found duplicates for (racer_id, discipline):\")\n",
    "        return duplicates\n",
    "    else:\n",
    "        print(\"No duplicates found.\")\n",
    "        return None"
   ]
  },
  {
   "cell_type": "markdown",
   "id": "4d3af9a4-d962-42d2-9c82-70a612099b00",
   "metadata": {},
   "source": [
    "# Create the connection"
   ]
  },
  {
   "cell_type": "code",
   "execution_count": 2,
   "id": "a2685872-fe1b-447c-9d3c-2bae5f3a3e82",
   "metadata": {},
   "outputs": [],
   "source": [
    "import pandas as pd\n",
    "import sqlite3\n",
    "from helper_functions import prep_race_results, upload_results, drop_nulls\n",
    "\n",
    "# Set the database path to a location with write permissions\n",
    "db_path = '../race_league_results.db'\n",
    "\n",
    "# Connect to SQLite database (or create it if it doesn't exist)\n",
    "conn = sqlite3.connect(db_path)\n",
    "cursor = conn.cursor()\n"
   ]
  },
  {
   "cell_type": "markdown",
   "id": "6d2c1683-2bd4-4bc8-aed7-f1af131d2fd4",
   "metadata": {
    "jp-MarkdownHeadingCollapsed": true
   },
   "source": [
    "# Upload timetrial data (just race results)"
   ]
  },
  {
   "cell_type": "code",
   "execution_count": 3,
   "id": "881b2de1-58ec-4e73-a99b-a3a2b80c650f",
   "metadata": {},
   "outputs": [],
   "source": [
    "import pandas as pd\n",
    "import numpy as np\n",
    "from helper_functions import clean_string, RACE_RESULT_COL_ORDER, upload_results"
   ]
  },
  {
   "cell_type": "code",
   "execution_count": 5,
   "id": "78e15faa-196b-41d3-a213-e505cbf4dba2",
   "metadata": {},
   "outputs": [],
   "source": [
    "result_cols = [\"bib\", \"discipline\", \"racer_id\", \"run1\", \"run2\"]\n",
    "df_load = pd.read_csv(\"2025/241229FnGRaceSimResultsBoth.csv\", header=None, names=result_cols)"
   ]
  },
  {
   "cell_type": "code",
   "execution_count": 6,
   "id": "7d587718-976f-44ba-bffb-a54fe9b5f805",
   "metadata": {},
   "outputs": [
    {
     "name": "stdout",
     "output_type": "stream",
     "text": [
      "No duplicates found.\n"
     ]
    }
   ],
   "source": [
    "df_load[\"racer_id\"] = df_load[\"racer_id\"].apply(clean_string)\n",
    "dup_entries(df_load)\n",
    "df_load.replace({'DNF': 9998,\"DSQ\": 9998, \"DNS\": 9999, pd.NA: 9999}, inplace=True)"
   ]
  },
  {
   "cell_type": "code",
   "execution_count": 7,
   "id": "d789f66d-b702-45db-b1d0-950daa011393",
   "metadata": {},
   "outputs": [
    {
     "data": {
      "text/html": [
       "<div>\n",
       "<style scoped>\n",
       "    .dataframe tbody tr th:only-of-type {\n",
       "        vertical-align: middle;\n",
       "    }\n",
       "\n",
       "    .dataframe tbody tr th {\n",
       "        vertical-align: top;\n",
       "    }\n",
       "\n",
       "    .dataframe thead th {\n",
       "        text-align: right;\n",
       "    }\n",
       "</style>\n",
       "<table border=\"1\" class=\"dataframe\">\n",
       "  <thead>\n",
       "    <tr style=\"text-align: right;\">\n",
       "      <th></th>\n",
       "      <th>bib</th>\n",
       "      <th>discipline</th>\n",
       "      <th>racer_id</th>\n",
       "      <th>run1</th>\n",
       "      <th>run2</th>\n",
       "    </tr>\n",
       "  </thead>\n",
       "  <tbody>\n",
       "    <tr>\n",
       "      <th>0</th>\n",
       "      <td>1</td>\n",
       "      <td>SKI</td>\n",
       "      <td>alexhenry</td>\n",
       "      <td>9999</td>\n",
       "      <td>9999</td>\n",
       "    </tr>\n",
       "    <tr>\n",
       "      <th>1</th>\n",
       "      <td>2</td>\n",
       "      <td>SKI</td>\n",
       "      <td>tonypetrella</td>\n",
       "      <td>9999</td>\n",
       "      <td>9999</td>\n",
       "    </tr>\n",
       "  </tbody>\n",
       "</table>\n",
       "</div>"
      ],
      "text/plain": [
       "   bib discipline      racer_id  run1  run2\n",
       "0    1        SKI     alexhenry  9999  9999\n",
       "1    2        SKI  tonypetrella  9999  9999"
      ]
     },
     "execution_count": 7,
     "metadata": {},
     "output_type": "execute_result"
    }
   ],
   "source": [
    "df_load.head(2)"
   ]
  },
  {
   "cell_type": "code",
   "execution_count": 8,
   "id": "60a16de6-f33d-4b5b-ad78-c7304a1262dc",
   "metadata": {},
   "outputs": [],
   "source": [
    "race_date = '12/29/2024'\n",
    "race_id = 241229\n",
    "description = '2025 Race Sim (time trials)'\n",
    "\n",
    "df_load['run1'] = pd.to_numeric(df_load['run1']) # errors='coerce')\n",
    "df_load['run2'] = pd.to_numeric(df_load['run2']) # errors='coerce')\n",
    "df_load['best_time'] = df_load[['run1', 'run2']].min(axis=1)\n",
    "df_load[\"points\"] = np.nan\n",
    "df_load[\"team\"] = np.nan\n",
    "df_load[\"tier\"] = np.nan\n",
    "df_load[\"race_id\"] = race_id"
   ]
  },
  {
   "cell_type": "code",
   "execution_count": 9,
   "id": "5172aa68-8fd7-486d-af84-d2e11ddabea9",
   "metadata": {},
   "outputs": [
    {
     "data": {
      "text/html": [
       "<div>\n",
       "<style scoped>\n",
       "    .dataframe tbody tr th:only-of-type {\n",
       "        vertical-align: middle;\n",
       "    }\n",
       "\n",
       "    .dataframe tbody tr th {\n",
       "        vertical-align: top;\n",
       "    }\n",
       "\n",
       "    .dataframe thead th {\n",
       "        text-align: right;\n",
       "    }\n",
       "</style>\n",
       "<table border=\"1\" class=\"dataframe\">\n",
       "  <thead>\n",
       "    <tr style=\"text-align: right;\">\n",
       "      <th></th>\n",
       "      <th>racer_id</th>\n",
       "      <th>discipline</th>\n",
       "      <th>team</th>\n",
       "      <th>tier</th>\n",
       "      <th>run1</th>\n",
       "      <th>run2</th>\n",
       "      <th>best_time</th>\n",
       "      <th>points</th>\n",
       "      <th>race_id</th>\n",
       "      <th>bib</th>\n",
       "    </tr>\n",
       "  </thead>\n",
       "  <tbody>\n",
       "    <tr>\n",
       "      <th>0</th>\n",
       "      <td>alexhenry</td>\n",
       "      <td>SKI</td>\n",
       "      <td>NaN</td>\n",
       "      <td>NaN</td>\n",
       "      <td>9999.0</td>\n",
       "      <td>9999.0</td>\n",
       "      <td>9999.0</td>\n",
       "      <td>NaN</td>\n",
       "      <td>241229</td>\n",
       "      <td>1</td>\n",
       "    </tr>\n",
       "    <tr>\n",
       "      <th>1</th>\n",
       "      <td>tonypetrella</td>\n",
       "      <td>SKI</td>\n",
       "      <td>NaN</td>\n",
       "      <td>NaN</td>\n",
       "      <td>9999.0</td>\n",
       "      <td>9999.0</td>\n",
       "      <td>9999.0</td>\n",
       "      <td>NaN</td>\n",
       "      <td>241229</td>\n",
       "      <td>2</td>\n",
       "    </tr>\n",
       "  </tbody>\n",
       "</table>\n",
       "</div>"
      ],
      "text/plain": [
       "       racer_id discipline  team  tier    run1    run2  best_time  points  \\\n",
       "0     alexhenry        SKI   NaN   NaN  9999.0  9999.0     9999.0     NaN   \n",
       "1  tonypetrella        SKI   NaN   NaN  9999.0  9999.0     9999.0     NaN   \n",
       "\n",
       "   race_id  bib  \n",
       "0   241229    1  \n",
       "1   241229    2  "
      ]
     },
     "execution_count": 9,
     "metadata": {},
     "output_type": "execute_result"
    }
   ],
   "source": [
    "df_load[RACE_RESULT_COL_ORDER].head(2)"
   ]
  },
  {
   "cell_type": "code",
   "execution_count": 12,
   "id": "1d371ad9-fa70-43d8-90d5-16671221f0be",
   "metadata": {},
   "outputs": [],
   "source": [
    "#upload_results(\n",
    "#    df_load[RACE_RESULT_COL_ORDER],\n",
    "#    race_id,\n",
    "#    race_date,\n",
    "#    description,\n",
    "#    conn\n",
    "#)"
   ]
  },
  {
   "cell_type": "code",
   "execution_count": null,
   "id": "2f54eaf9-4da2-4f56-9c5e-a29aeef8741d",
   "metadata": {},
   "outputs": [],
   "source": []
  },
  {
   "cell_type": "markdown",
   "id": "35cfc2e6-77ff-4a02-b092-503a2d44881c",
   "metadata": {
    "jp-MarkdownHeadingCollapsed": true
   },
   "source": [
    "# Update team data (new year start list)!"
   ]
  },
  {
   "cell_type": "code",
   "execution_count": 7,
   "id": "3b54a519-aecb-4ac7-818e-e7ff3fac6e39",
   "metadata": {},
   "outputs": [
    {
     "data": {
      "text/plain": [
       "'/Users/will/Documents/github/cartar/alpine-fng.github.io/data'"
      ]
     },
     "execution_count": 7,
     "metadata": {},
     "output_type": "execute_result"
    }
   ],
   "source": [
    "import os \n",
    "\n",
    "os.getcwd()"
   ]
  },
  {
   "cell_type": "code",
   "execution_count": 12,
   "id": "fa7eb703-4a37-4d5c-9602-ec73c16c285e",
   "metadata": {},
   "outputs": [],
   "source": [
    "teams_df = pd.read_csv('2025/2025StartList.csv')\n",
    "teams_df = drop_nulls(teams_df, \"name\")\n",
    "teams_df[\"racer_id\"] = teams_df[\"name\"].apply(clean_string)\n",
    "teams_df.columns = [\"bib\", \"discipline\", \"name\", \"tier\", \"team\", \"racer_id\"]\n",
    "teams_df[\"year\"] = 2025"
   ]
  },
  {
   "cell_type": "code",
   "execution_count": 13,
   "id": "15af0a53-70ab-4b07-8dd9-bb396c96524e",
   "metadata": {},
   "outputs": [
    {
     "data": {
      "text/html": [
       "<div>\n",
       "<style scoped>\n",
       "    .dataframe tbody tr th:only-of-type {\n",
       "        vertical-align: middle;\n",
       "    }\n",
       "\n",
       "    .dataframe tbody tr th {\n",
       "        vertical-align: top;\n",
       "    }\n",
       "\n",
       "    .dataframe thead th {\n",
       "        text-align: right;\n",
       "    }\n",
       "</style>\n",
       "<table border=\"1\" class=\"dataframe\">\n",
       "  <thead>\n",
       "    <tr style=\"text-align: right;\">\n",
       "      <th></th>\n",
       "      <th>bib</th>\n",
       "      <th>discipline</th>\n",
       "      <th>name</th>\n",
       "      <th>tier</th>\n",
       "      <th>team</th>\n",
       "      <th>racer_id</th>\n",
       "      <th>year</th>\n",
       "    </tr>\n",
       "  </thead>\n",
       "  <tbody>\n",
       "    <tr>\n",
       "      <th>0</th>\n",
       "      <td>1</td>\n",
       "      <td>SKI</td>\n",
       "      <td>David Moull</td>\n",
       "      <td>11</td>\n",
       "      <td>Green</td>\n",
       "      <td>davidmoull</td>\n",
       "      <td>2025</td>\n",
       "    </tr>\n",
       "    <tr>\n",
       "      <th>1</th>\n",
       "      <td>2</td>\n",
       "      <td>SKI</td>\n",
       "      <td>Shanna Reid</td>\n",
       "      <td>11</td>\n",
       "      <td>Purple</td>\n",
       "      <td>shannareid</td>\n",
       "      <td>2025</td>\n",
       "    </tr>\n",
       "    <tr>\n",
       "      <th>2</th>\n",
       "      <td>3</td>\n",
       "      <td>SKI</td>\n",
       "      <td>Devesh Varma</td>\n",
       "      <td>11</td>\n",
       "      <td>Orange</td>\n",
       "      <td>deveshvarma</td>\n",
       "      <td>2025</td>\n",
       "    </tr>\n",
       "    <tr>\n",
       "      <th>3</th>\n",
       "      <td>4</td>\n",
       "      <td>SKI</td>\n",
       "      <td>Dave Graff</td>\n",
       "      <td>11</td>\n",
       "      <td>Green</td>\n",
       "      <td>davegraff</td>\n",
       "      <td>2025</td>\n",
       "    </tr>\n",
       "    <tr>\n",
       "      <th>4</th>\n",
       "      <td>5</td>\n",
       "      <td>SKI</td>\n",
       "      <td>JD Etter</td>\n",
       "      <td>11</td>\n",
       "      <td>Yellow</td>\n",
       "      <td>jdetter</td>\n",
       "      <td>2025</td>\n",
       "    </tr>\n",
       "    <tr>\n",
       "      <th>...</th>\n",
       "      <td>...</td>\n",
       "      <td>...</td>\n",
       "      <td>...</td>\n",
       "      <td>...</td>\n",
       "      <td>...</td>\n",
       "      <td>...</td>\n",
       "      <td>...</td>\n",
       "    </tr>\n",
       "    <tr>\n",
       "      <th>95</th>\n",
       "      <td>180</td>\n",
       "      <td>SNBD</td>\n",
       "      <td>Thomas Daly</td>\n",
       "      <td>12</td>\n",
       "      <td>Blue</td>\n",
       "      <td>thomasdaly</td>\n",
       "      <td>2025</td>\n",
       "    </tr>\n",
       "    <tr>\n",
       "      <th>96</th>\n",
       "      <td>132</td>\n",
       "      <td>SNBD</td>\n",
       "      <td>Sheri Ramshaw</td>\n",
       "      <td>13</td>\n",
       "      <td>Blue</td>\n",
       "      <td>sheriramshaw</td>\n",
       "      <td>2025</td>\n",
       "    </tr>\n",
       "    <tr>\n",
       "      <th>97</th>\n",
       "      <td>104</td>\n",
       "      <td>SNBD</td>\n",
       "      <td>Jacob Max Farber</td>\n",
       "      <td>12</td>\n",
       "      <td>Pink</td>\n",
       "      <td>jacobmaxfarber</td>\n",
       "      <td>2025</td>\n",
       "    </tr>\n",
       "    <tr>\n",
       "      <th>98</th>\n",
       "      <td>105</td>\n",
       "      <td>SNBD</td>\n",
       "      <td>Steve Crawford</td>\n",
       "      <td>13</td>\n",
       "      <td>Orange</td>\n",
       "      <td>stevecrawford</td>\n",
       "      <td>2025</td>\n",
       "    </tr>\n",
       "    <tr>\n",
       "      <th>99</th>\n",
       "      <td>182</td>\n",
       "      <td>SNBD</td>\n",
       "      <td>Graham Ramshaw</td>\n",
       "      <td>12</td>\n",
       "      <td>Green</td>\n",
       "      <td>grahamramshaw</td>\n",
       "      <td>2025</td>\n",
       "    </tr>\n",
       "  </tbody>\n",
       "</table>\n",
       "<p>100 rows × 7 columns</p>\n",
       "</div>"
      ],
      "text/plain": [
       "    bib discipline              name  tier    team        racer_id  year\n",
       "0     1        SKI       David Moull    11   Green      davidmoull  2025\n",
       "1     2        SKI       Shanna Reid    11  Purple      shannareid  2025\n",
       "2     3        SKI      Devesh Varma    11  Orange     deveshvarma  2025\n",
       "3     4        SKI        Dave Graff    11   Green       davegraff  2025\n",
       "4     5        SKI          JD Etter    11  Yellow         jdetter  2025\n",
       "..  ...        ...               ...   ...     ...             ...   ...\n",
       "95  180       SNBD       Thomas Daly    12    Blue      thomasdaly  2025\n",
       "96  132       SNBD     Sheri Ramshaw    13    Blue    sheriramshaw  2025\n",
       "97  104       SNBD  Jacob Max Farber    12    Pink  jacobmaxfarber  2025\n",
       "98  105       SNBD    Steve Crawford    13  Orange   stevecrawford  2025\n",
       "99  182       SNBD    Graham Ramshaw    12   Green   grahamramshaw  2025\n",
       "\n",
       "[100 rows x 7 columns]"
      ]
     },
     "execution_count": 13,
     "metadata": {},
     "output_type": "execute_result"
    }
   ],
   "source": [
    "teams_df"
   ]
  },
  {
   "cell_type": "code",
   "execution_count": 15,
   "id": "e8ba70c8-3e9f-4845-9be5-4a2f5abb1aab",
   "metadata": {},
   "outputs": [],
   "source": [
    "teams_df.to_sql('Teams', conn, if_exists='append', index=False)\n",
    "conn.commit()"
   ]
  },
  {
   "cell_type": "markdown",
   "id": "c54652e4-0074-4aca-ab93-0bd485bc4ba9",
   "metadata": {},
   "source": [
    "## Fix team names:"
   ]
  },
  {
   "cell_type": "code",
   "execution_count": 17,
   "id": "f591e06e-6de1-401e-8994-4a67b050d8b9",
   "metadata": {},
   "outputs": [
    {
     "data": {
      "text/html": [
       "<div>\n",
       "<style scoped>\n",
       "    .dataframe tbody tr th:only-of-type {\n",
       "        vertical-align: middle;\n",
       "    }\n",
       "\n",
       "    .dataframe tbody tr th {\n",
       "        vertical-align: top;\n",
       "    }\n",
       "\n",
       "    .dataframe thead th {\n",
       "        text-align: right;\n",
       "    }\n",
       "</style>\n",
       "<table border=\"1\" class=\"dataframe\">\n",
       "  <thead>\n",
       "    <tr style=\"text-align: right;\">\n",
       "      <th></th>\n",
       "      <th>bib</th>\n",
       "      <th>discipline</th>\n",
       "      <th>name</th>\n",
       "      <th>tier</th>\n",
       "      <th>team</th>\n",
       "      <th>racer_id</th>\n",
       "      <th>year</th>\n",
       "    </tr>\n",
       "  </thead>\n",
       "  <tbody>\n",
       "    <tr>\n",
       "      <th>0</th>\n",
       "      <td>84</td>\n",
       "      <td>SKI</td>\n",
       "      <td>Mclean Wood</td>\n",
       "      <td>1</td>\n",
       "      <td>Green</td>\n",
       "      <td>mcleanwood</td>\n",
       "      <td>2025</td>\n",
       "    </tr>\n",
       "    <tr>\n",
       "      <th>1</th>\n",
       "      <td>74</td>\n",
       "      <td>SKI</td>\n",
       "      <td>William Cartar</td>\n",
       "      <td>2</td>\n",
       "      <td>Green</td>\n",
       "      <td>williamcartar</td>\n",
       "      <td>2025</td>\n",
       "    </tr>\n",
       "    <tr>\n",
       "      <th>2</th>\n",
       "      <td>67</td>\n",
       "      <td>SKI</td>\n",
       "      <td>Brad Brock</td>\n",
       "      <td>3</td>\n",
       "      <td>Green</td>\n",
       "      <td>bradbrock</td>\n",
       "      <td>2025</td>\n",
       "    </tr>\n",
       "    <tr>\n",
       "      <th>3</th>\n",
       "      <td>63</td>\n",
       "      <td>SKI</td>\n",
       "      <td>Mark Laurie</td>\n",
       "      <td>4</td>\n",
       "      <td>Green</td>\n",
       "      <td>marklaurie</td>\n",
       "      <td>2025</td>\n",
       "    </tr>\n",
       "    <tr>\n",
       "      <th>4</th>\n",
       "      <td>57</td>\n",
       "      <td>SKI</td>\n",
       "      <td>Todd Robertson</td>\n",
       "      <td>5</td>\n",
       "      <td>Green</td>\n",
       "      <td>toddrobertson</td>\n",
       "      <td>2025</td>\n",
       "    </tr>\n",
       "    <tr>\n",
       "      <th>5</th>\n",
       "      <td>46</td>\n",
       "      <td>SKI</td>\n",
       "      <td>Craig Pitman</td>\n",
       "      <td>6</td>\n",
       "      <td>Green</td>\n",
       "      <td>craigpitman</td>\n",
       "      <td>2025</td>\n",
       "    </tr>\n",
       "    <tr>\n",
       "      <th>6</th>\n",
       "      <td>38</td>\n",
       "      <td>SKI</td>\n",
       "      <td>David Eva</td>\n",
       "      <td>7</td>\n",
       "      <td>Green</td>\n",
       "      <td>davideva</td>\n",
       "      <td>2025</td>\n",
       "    </tr>\n",
       "    <tr>\n",
       "      <th>7</th>\n",
       "      <td>30</td>\n",
       "      <td>SKI</td>\n",
       "      <td>Sarah Robertson</td>\n",
       "      <td>8</td>\n",
       "      <td>Green</td>\n",
       "      <td>sarahrobertson</td>\n",
       "      <td>2025</td>\n",
       "    </tr>\n",
       "    <tr>\n",
       "      <th>8</th>\n",
       "      <td>19</td>\n",
       "      <td>SKI</td>\n",
       "      <td>Audun Breder</td>\n",
       "      <td>9</td>\n",
       "      <td>Green</td>\n",
       "      <td>audunbreder</td>\n",
       "      <td>2025</td>\n",
       "    </tr>\n",
       "    <tr>\n",
       "      <th>9</th>\n",
       "      <td>12</td>\n",
       "      <td>SKI</td>\n",
       "      <td>Antonio Liberatore</td>\n",
       "      <td>10</td>\n",
       "      <td>Green</td>\n",
       "      <td>antonioliberatore</td>\n",
       "      <td>2025</td>\n",
       "    </tr>\n",
       "    <tr>\n",
       "      <th>10</th>\n",
       "      <td>1</td>\n",
       "      <td>SKI</td>\n",
       "      <td>David Moull</td>\n",
       "      <td>11</td>\n",
       "      <td>Green</td>\n",
       "      <td>davidmoull</td>\n",
       "      <td>2025</td>\n",
       "    </tr>\n",
       "    <tr>\n",
       "      <th>11</th>\n",
       "      <td>4</td>\n",
       "      <td>SKI</td>\n",
       "      <td>Dave Graff</td>\n",
       "      <td>11</td>\n",
       "      <td>Green</td>\n",
       "      <td>davegraff</td>\n",
       "      <td>2025</td>\n",
       "    </tr>\n",
       "    <tr>\n",
       "      <th>12</th>\n",
       "      <td>182</td>\n",
       "      <td>SNBD</td>\n",
       "      <td>Graham Ramshaw</td>\n",
       "      <td>12</td>\n",
       "      <td>Green</td>\n",
       "      <td>grahamramshaw</td>\n",
       "      <td>2025</td>\n",
       "    </tr>\n",
       "  </tbody>\n",
       "</table>\n",
       "</div>"
      ],
      "text/plain": [
       "    bib discipline                name  tier   team           racer_id  year\n",
       "0    84        SKI         Mclean Wood     1  Green         mcleanwood  2025\n",
       "1    74        SKI      William Cartar     2  Green      williamcartar  2025\n",
       "2    67        SKI          Brad Brock     3  Green          bradbrock  2025\n",
       "3    63        SKI         Mark Laurie     4  Green         marklaurie  2025\n",
       "4    57        SKI      Todd Robertson     5  Green      toddrobertson  2025\n",
       "5    46        SKI        Craig Pitman     6  Green        craigpitman  2025\n",
       "6    38        SKI           David Eva     7  Green           davideva  2025\n",
       "7    30        SKI     Sarah Robertson     8  Green     sarahrobertson  2025\n",
       "8    19        SKI        Audun Breder     9  Green        audunbreder  2025\n",
       "9    12        SKI  Antonio Liberatore    10  Green  antonioliberatore  2025\n",
       "10    1        SKI         David Moull    11  Green         davidmoull  2025\n",
       "11    4        SKI          Dave Graff    11  Green          davegraff  2025\n",
       "12  182       SNBD      Graham Ramshaw    12  Green      grahamramshaw  2025"
      ]
     },
     "execution_count": 17,
     "metadata": {},
     "output_type": "execute_result"
    }
   ],
   "source": [
    "foo = pd.read_sql_query(\"SELECT * FROM Teams WHERE team = 'Green' AND year = 2025 ORDER BY tier;\", conn)\n",
    "foo"
   ]
  },
  {
   "cell_type": "code",
   "execution_count": 19,
   "id": "8a90a868-25b7-407e-9d9e-fffd5240534a",
   "metadata": {},
   "outputs": [],
   "source": [
    "sql = \"\"\"\n",
    "UPDATE Teams\n",
    "SET team = 'Orange Crush'\n",
    "WHERE team = 'Orange'\n",
    "AND year = 2025;\n",
    "\"\"\"\n",
    "\n",
    "cursor = conn.cursor()\n",
    "cursor.execute(sql)\n",
    "conn.commit()"
   ]
  },
  {
   "cell_type": "code",
   "execution_count": 18,
   "id": "e6846aab-8971-4318-8b04-9889dd3aeb4d",
   "metadata": {},
   "outputs": [],
   "source": [
    "sql = \"\"\"\n",
    "UPDATE Teams\n",
    "SET team = 'HULK SMASH (Green)'\n",
    "WHERE team = 'Green'\n",
    "AND year = 2025;\n",
    "\"\"\"\n",
    "\n",
    "cursor = conn.cursor()\n",
    "cursor.execute(sql)\n",
    "conn.commit()"
   ]
  },
  {
   "cell_type": "code",
   "execution_count": null,
   "id": "a09654f5-b2f9-4acf-be98-e96f560d056f",
   "metadata": {},
   "outputs": [],
   "source": []
  },
  {
   "cell_type": "markdown",
   "id": "7f477fb5-191f-41d2-8bdb-339db957c861",
   "metadata": {
    "jp-MarkdownHeadingCollapsed": true
   },
   "source": [
    "# First race upload 2025"
   ]
  },
  {
   "cell_type": "code",
   "execution_count": 3,
   "id": "2d37eb35-677c-4a71-89d6-bc4ae1edd7a9",
   "metadata": {},
   "outputs": [],
   "source": [
    "path = '2025/250112FnGResultsBoth.csv'\n",
    "race_date = '01/12/2025'\n",
    "race_id = 250112\n",
    "year = 2025\n",
    "description = '2025 F&G Race #1'\n",
    "N_tiers=13\n",
    "N_teams=8 \n",
    "max_points=10\n"
   ]
  },
  {
   "cell_type": "code",
   "execution_count": 4,
   "id": "e3758308-ec22-460a-8465-102822fc8269",
   "metadata": {
    "scrolled": true
   },
   "outputs": [
    {
     "name": "stderr",
     "output_type": "stream",
     "text": [
      "/Users/will/Documents/github/cartar/alpine-fng.github.io/data/helper_functions.py:140: FutureWarning: The behavior of DataFrame concatenation with empty or all-NA entries is deprecated. In a future version, this will no longer exclude empty or all-NA columns when determining the result dtypes. To retain the old behavior, exclude the relevant entries before the concat operation.\n",
      "  team_df.loc[-1] = [pd.NA, pd.NA, pd.NA, tier, team, pd.NA, pd.NA, pd.NA, avg_points]\n",
      "/Users/will/Documents/github/cartar/alpine-fng.github.io/data/helper_functions.py:140: SettingWithCopyWarning: \n",
      "A value is trying to be set on a copy of a slice from a DataFrame\n",
      "\n",
      "See the caveats in the documentation: https://pandas.pydata.org/pandas-docs/stable/user_guide/indexing.html#returning-a-view-versus-a-copy\n",
      "  team_df.loc[-1] = [pd.NA, pd.NA, pd.NA, tier, team, pd.NA, pd.NA, pd.NA, avg_points]\n",
      "/Users/will/Documents/github/cartar/alpine-fng.github.io/data/helper_functions.py:140: FutureWarning: The behavior of DataFrame concatenation with empty or all-NA entries is deprecated. In a future version, this will no longer exclude empty or all-NA columns when determining the result dtypes. To retain the old behavior, exclude the relevant entries before the concat operation.\n",
      "  team_df.loc[-1] = [pd.NA, pd.NA, pd.NA, tier, team, pd.NA, pd.NA, pd.NA, avg_points]\n",
      "/Users/will/Documents/github/cartar/alpine-fng.github.io/data/helper_functions.py:140: SettingWithCopyWarning: \n",
      "A value is trying to be set on a copy of a slice from a DataFrame\n",
      "\n",
      "See the caveats in the documentation: https://pandas.pydata.org/pandas-docs/stable/user_guide/indexing.html#returning-a-view-versus-a-copy\n",
      "  team_df.loc[-1] = [pd.NA, pd.NA, pd.NA, tier, team, pd.NA, pd.NA, pd.NA, avg_points]\n",
      "/Users/will/Documents/github/cartar/alpine-fng.github.io/data/helper_functions.py:140: FutureWarning: The behavior of DataFrame concatenation with empty or all-NA entries is deprecated. In a future version, this will no longer exclude empty or all-NA columns when determining the result dtypes. To retain the old behavior, exclude the relevant entries before the concat operation.\n",
      "  team_df.loc[-1] = [pd.NA, pd.NA, pd.NA, tier, team, pd.NA, pd.NA, pd.NA, avg_points]\n",
      "/Users/will/Documents/github/cartar/alpine-fng.github.io/data/helper_functions.py:140: SettingWithCopyWarning: \n",
      "A value is trying to be set on a copy of a slice from a DataFrame\n",
      "\n",
      "See the caveats in the documentation: https://pandas.pydata.org/pandas-docs/stable/user_guide/indexing.html#returning-a-view-versus-a-copy\n",
      "  team_df.loc[-1] = [pd.NA, pd.NA, pd.NA, tier, team, pd.NA, pd.NA, pd.NA, avg_points]\n",
      "/Users/will/Documents/github/cartar/alpine-fng.github.io/data/helper_functions.py:140: FutureWarning: The behavior of DataFrame concatenation with empty or all-NA entries is deprecated. In a future version, this will no longer exclude empty or all-NA columns when determining the result dtypes. To retain the old behavior, exclude the relevant entries before the concat operation.\n",
      "  team_df.loc[-1] = [pd.NA, pd.NA, pd.NA, tier, team, pd.NA, pd.NA, pd.NA, avg_points]\n",
      "/Users/will/Documents/github/cartar/alpine-fng.github.io/data/helper_functions.py:140: SettingWithCopyWarning: \n",
      "A value is trying to be set on a copy of a slice from a DataFrame\n",
      "\n",
      "See the caveats in the documentation: https://pandas.pydata.org/pandas-docs/stable/user_guide/indexing.html#returning-a-view-versus-a-copy\n",
      "  team_df.loc[-1] = [pd.NA, pd.NA, pd.NA, tier, team, pd.NA, pd.NA, pd.NA, avg_points]\n",
      "/Users/will/Documents/github/cartar/alpine-fng.github.io/data/helper_functions.py:140: FutureWarning: The behavior of DataFrame concatenation with empty or all-NA entries is deprecated. In a future version, this will no longer exclude empty or all-NA columns when determining the result dtypes. To retain the old behavior, exclude the relevant entries before the concat operation.\n",
      "  team_df.loc[-1] = [pd.NA, pd.NA, pd.NA, tier, team, pd.NA, pd.NA, pd.NA, avg_points]\n",
      "/Users/will/Documents/github/cartar/alpine-fng.github.io/data/helper_functions.py:140: SettingWithCopyWarning: \n",
      "A value is trying to be set on a copy of a slice from a DataFrame\n",
      "\n",
      "See the caveats in the documentation: https://pandas.pydata.org/pandas-docs/stable/user_guide/indexing.html#returning-a-view-versus-a-copy\n",
      "  team_df.loc[-1] = [pd.NA, pd.NA, pd.NA, tier, team, pd.NA, pd.NA, pd.NA, avg_points]\n"
     ]
    }
   ],
   "source": [
    "results = prep_race_results(\n",
    "    path,\n",
    "    race_id,\n",
    "    year,\n",
    "    N_tiers,\n",
    "    N_teams,\n",
    "    max_points,\n",
    "    conn\n",
    ")"
   ]
  },
  {
   "cell_type": "code",
   "execution_count": 5,
   "id": "cbc13545-e152-4a4a-a1d5-42415328989d",
   "metadata": {},
   "outputs": [],
   "source": [
    "results.sort_values(by=[\"tier\", \"points\"], ascending=[True, False], inplace=False).to_csv(\"test_results.csv\")"
   ]
  },
  {
   "cell_type": "code",
   "execution_count": 6,
   "id": "95f6c53f-e65b-4e45-8a42-cc1e8400f55d",
   "metadata": {},
   "outputs": [],
   "source": [
    "# upload results:\n",
    "upload_results(results, race_id, race_date, description, conn)"
   ]
  },
  {
   "cell_type": "code",
   "execution_count": null,
   "id": "423b68bd-ce46-45a7-aae4-27b595c59add",
   "metadata": {},
   "outputs": [],
   "source": []
  },
  {
   "cell_type": "markdown",
   "id": "dbedb448-26d0-4ced-8069-03070060b9b6",
   "metadata": {},
   "source": [
    "# Upload second race"
   ]
  },
  {
   "cell_type": "code",
   "execution_count": null,
   "id": "39e20941-4543-40d9-91dd-dfc3ceeb0447",
   "metadata": {},
   "outputs": [],
   "source": []
  },
  {
   "cell_type": "code",
   "execution_count": null,
   "id": "f2c0a74d-40d2-4f2b-b4b1-9c72021a7551",
   "metadata": {},
   "outputs": [],
   "source": []
  },
  {
   "cell_type": "code",
   "execution_count": null,
   "id": "eba3a498-2b75-4450-8b4d-b7bafaa88b07",
   "metadata": {},
   "outputs": [],
   "source": []
  },
  {
   "cell_type": "markdown",
   "id": "c6ecea49-e47c-4ce9-b5c9-27fe7d000039",
   "metadata": {},
   "source": [
    "# Upload 3rd race"
   ]
  },
  {
   "cell_type": "code",
   "execution_count": null,
   "id": "6996919b-2b13-4ac5-9c2c-426f279047bc",
   "metadata": {},
   "outputs": [],
   "source": []
  },
  {
   "cell_type": "code",
   "execution_count": null,
   "id": "bd30b7b6-d80c-4171-9b4d-ecae12d24ea3",
   "metadata": {},
   "outputs": [],
   "source": []
  },
  {
   "cell_type": "code",
   "execution_count": null,
   "id": "ee877c98-a7e7-4705-a4db-6ca88295b101",
   "metadata": {},
   "outputs": [],
   "source": []
  },
  {
   "cell_type": "markdown",
   "id": "b0b95439-6b88-4151-a38a-a8614b92046c",
   "metadata": {},
   "source": [
    "# Upload 4th race"
   ]
  },
  {
   "cell_type": "code",
   "execution_count": null,
   "id": "1399e8b1-03dd-4778-8465-bdb6e82eb8f8",
   "metadata": {},
   "outputs": [],
   "source": []
  },
  {
   "cell_type": "markdown",
   "id": "d9a88d78-0026-4b4d-a960-fead4dd12a61",
   "metadata": {
    "jp-MarkdownHeadingCollapsed": true
   },
   "source": [
    "# Upload race data (calc points)\n",
    "[previous]"
   ]
  },
  {
   "cell_type": "code",
   "execution_count": null,
   "id": "0062a7c3-e9d1-4851-9cc2-02d9ec798b5c",
   "metadata": {},
   "outputs": [],
   "source": [
    "path = 'data/2024/240218FnGResultsBoth.csv'\n",
    "race_date = '02/18/2024'\n",
    "race_id = 240218\n",
    "description = '2024 F&G Race #4'\n",
    "N_tiers=13\n",
    "N_teams=8 \n",
    "\n",
    "\"\"\" # Comment out for now\n",
    "upload_new_race_results(\n",
    "    path,\n",
    "    race_date,\n",
    "    race_id,\n",
    "    description,\n",
    "    N_tiers,\n",
    "    N_teams,\n",
    "    conn\n",
    ")\n",
    "\"\"\""
   ]
  }
 ],
 "metadata": {
  "kernelspec": {
   "display_name": "Python 3 (ipykernel)",
   "language": "python",
   "name": "python3"
  },
  "language_info": {
   "codemirror_mode": {
    "name": "ipython",
    "version": 3
   },
   "file_extension": ".py",
   "mimetype": "text/x-python",
   "name": "python",
   "nbconvert_exporter": "python",
   "pygments_lexer": "ipython3",
   "version": "3.10.15"
  }
 },
 "nbformat": 4,
 "nbformat_minor": 5
}
