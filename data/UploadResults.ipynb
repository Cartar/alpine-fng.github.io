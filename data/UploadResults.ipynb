{
 "cells": [
  {
   "cell_type": "markdown",
   "id": "cb662bb2-0c13-4407-a08e-3defbcf17b12",
   "metadata": {},
   "source": [
    "# Need to figure out how to confirm that the format is correct..."
   ]
  },
  {
   "cell_type": "code",
   "execution_count": null,
   "id": "a1f52a1e-d5bd-4d01-a8b9-e51f27933d9d",
   "metadata": {},
   "outputs": [],
   "source": [
    "# FORMAT TESTING...."
   ]
  },
  {
   "cell_type": "markdown",
   "id": "d9a88d78-0026-4b4d-a960-fead4dd12a61",
   "metadata": {},
   "source": [
    "# Upload"
   ]
  },
  {
   "cell_type": "code",
   "execution_count": 2,
   "id": "5864ba19-ae17-4d27-a68f-290c86c32b4a",
   "metadata": {},
   "outputs": [],
   "source": [
    "import pandas as pd\n",
    "import sqlite3\n",
    "from helper_functions import upload_new_race_results"
   ]
  },
  {
   "cell_type": "code",
   "execution_count": null,
   "id": "acfb338d-fb97-459f-965a-8d4d67acea13",
   "metadata": {},
   "outputs": [],
   "source": [
    "# Set the database path to a location with write permissions\n",
    "db_path = '../race_league_results.db'\n",
    "\n",
    "# Connect to SQLite database (or create it if it doesn't exist)\n",
    "conn = sqlite3.connect(db_path)\n",
    "cursor = conn.cursor()\n"
   ]
  },
  {
   "cell_type": "code",
   "execution_count": null,
   "id": "0062a7c3-e9d1-4851-9cc2-02d9ec798b5c",
   "metadata": {},
   "outputs": [],
   "source": [
    "path = 'data/2024/240218FnGResultsBoth.csv'\n",
    "race_date = '02/18/2024'\n",
    "race_id = 240218\n",
    "description = '2024 F&G Race #4'\n",
    "N_tiers=13\n",
    "N_teams=8 \n",
    "\n",
    "\"\"\" # Comment out for now\n",
    "upload_new_race_results(\n",
    "    path,\n",
    "    race_date,\n",
    "    race_id,\n",
    "    description,\n",
    "    N_tiers,\n",
    "    N_teams,\n",
    "    conn\n",
    ")\n",
    "\"\"\""
   ]
  }
 ],
 "metadata": {
  "kernelspec": {
   "display_name": "Python 3 (ipykernel)",
   "language": "python",
   "name": "python3"
  },
  "language_info": {
   "codemirror_mode": {
    "name": "ipython",
    "version": 3
   },
   "file_extension": ".py",
   "mimetype": "text/x-python",
   "name": "python",
   "nbconvert_exporter": "python",
   "pygments_lexer": "ipython3",
   "version": "3.10.15"
  }
 },
 "nbformat": 4,
 "nbformat_minor": 5
}
