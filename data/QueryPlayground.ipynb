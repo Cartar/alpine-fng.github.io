{
 "cells": [
  {
   "cell_type": "markdown",
   "id": "e9527a89-1385-4a19-a368-a08a7cfeecd0",
   "metadata": {},
   "source": [
    "# Query playground"
   ]
  },
  {
   "cell_type": "code",
   "execution_count": 2,
   "id": "89641902-c863-4766-afed-0d1df8e2025a",
   "metadata": {},
   "outputs": [
    {
     "data": {
      "text/plain": [
       "'/Users/will/Documents/github/cartar/alpine-fng.github.io/data'"
      ]
     },
     "execution_count": 2,
     "metadata": {},
     "output_type": "execute_result"
    }
   ],
   "source": [
    "import os\n",
    "os.getcwd()"
   ]
  },
  {
   "cell_type": "code",
   "execution_count": 1,
   "id": "04a964e7-7766-478b-8dd5-251cfe8e0bba",
   "metadata": {},
   "outputs": [],
   "source": [
    "import pandas as pd\n",
    "import numpy as np\n",
    "import sqlite3\n",
    "\n",
    "from queries import get_race_data, get_point_total, get_races_list, audit_df"
   ]
  },
  {
   "cell_type": "code",
   "execution_count": 4,
   "id": "039cf7e9-5ef4-418a-b16a-44776e785645",
   "metadata": {},
   "outputs": [],
   "source": [
    "# Set the database path to a location with write permissions\n",
    "db_path = '../race_league_results.db'\n",
    "\n",
    "# Connect to SQLite database (or create it if it doesn't exist)\n",
    "conn = sqlite3.connect(db_path)\n",
    "cursor = conn.cursor()\n"
   ]
  },
  {
   "cell_type": "code",
   "execution_count": null,
   "id": "ddf4caba-b38a-4977-901e-7d188753dd68",
   "metadata": {},
   "outputs": [],
   "source": []
  }
 ],
 "metadata": {
  "kernelspec": {
   "display_name": "Python 3 (ipykernel)",
   "language": "python",
   "name": "python3"
  },
  "language_info": {
   "codemirror_mode": {
    "name": "ipython",
    "version": 3
   },
   "file_extension": ".py",
   "mimetype": "text/x-python",
   "name": "python",
   "nbconvert_exporter": "python",
   "pygments_lexer": "ipython3",
   "version": "3.10.15"
  }
 },
 "nbformat": 4,
 "nbformat_minor": 5
}
