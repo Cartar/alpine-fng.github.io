{
 "cells": [
  {
   "cell_type": "code",
   "execution_count": 71,
   "id": "e13be8fb-8117-4a36-bfdf-4cead999b317",
   "metadata": {},
   "outputs": [],
   "source": [
    "import re\n",
    "import pandas as pd\n",
    "import numpy as np\n",
    "import sqlite3"
   ]
  },
  {
   "cell_type": "code",
   "execution_count": 57,
   "id": "c708d0e7-a5b1-458c-95bc-5fab8e4dc917",
   "metadata": {},
   "outputs": [],
   "source": [
    "def drop_nulls(df, col):\n",
    "    return df.dropna(subset=[col])\n",
    "\n",
    "def clean_string(s):\n",
    "    \"\"\"\n",
    "    Removes whitespace and non-alphanumeric characters from a string.\n",
    "    \n",
    "    Parameters:\n",
    "    s (str): The input string to clean.\n",
    "\n",
    "    Returns:\n",
    "    str: A cleaned string with only alphanumeric characters.\n",
    "    \"\"\"\n",
    "    if isinstance(s, str):\n",
    "        return re.sub(r'\\W+', '', s)  # Removes non-alphanumeric characters and whitespace\n",
    "    else:\n",
    "        return ''  # Handle non-string cases, e.g., None or NaN\n"
   ]
  },
  {
   "cell_type": "code",
   "execution_count": 8,
   "id": "748061bf-ca0e-4fc3-8fba-ce44908a05a7",
   "metadata": {},
   "outputs": [],
   "source": [
    "# Set the database path to a location with write permissions\n",
    "db_path = 'race_league_results.db'\n",
    "\n",
    "# Connect to SQLite database (or create it if it doesn't exist)\n",
    "conn = sqlite3.connect(db_path)\n",
    "cursor = conn.cursor()\n"
   ]
  },
  {
   "cell_type": "markdown",
   "id": "b4d5e13f-145c-4faa-ad7e-b2f2c29351d5",
   "metadata": {},
   "source": [
    "## set up racers table"
   ]
  },
  {
   "cell_type": "code",
   "execution_count": 56,
   "id": "c8b20e4e-38c5-4564-8d12-d658c1f3e273",
   "metadata": {},
   "outputs": [
    {
     "data": {
      "text/plain": [
       "racer_id       object\n",
       "first_name     object\n",
       "last_name      object\n",
       "gender         object\n",
       "birth_year    float64\n",
       "dtype: object"
      ]
     },
     "execution_count": 56,
     "metadata": {},
     "output_type": "execute_result"
    }
   ],
   "source": [
    "racers_df.dtypes"
   ]
  },
  {
   "cell_type": "code",
   "execution_count": 60,
   "id": "dfa29ee0-0754-43da-a0b9-a82b0cb73843",
   "metadata": {},
   "outputs": [
    {
     "data": {
      "text/html": [
       "<div>\n",
       "<style scoped>\n",
       "    .dataframe tbody tr th:only-of-type {\n",
       "        vertical-align: middle;\n",
       "    }\n",
       "\n",
       "    .dataframe tbody tr th {\n",
       "        vertical-align: top;\n",
       "    }\n",
       "\n",
       "    .dataframe thead th {\n",
       "        text-align: right;\n",
       "    }\n",
       "</style>\n",
       "<table border=\"1\" class=\"dataframe\">\n",
       "  <thead>\n",
       "    <tr style=\"text-align: right;\">\n",
       "      <th></th>\n",
       "      <th>racer_id</th>\n",
       "      <th>first_name</th>\n",
       "      <th>last_name</th>\n",
       "      <th>gender</th>\n",
       "      <th>birth_year</th>\n",
       "    </tr>\n",
       "  </thead>\n",
       "  <tbody>\n",
       "    <tr>\n",
       "      <th>2</th>\n",
       "      <td>bradabbott</td>\n",
       "      <td>Brad</td>\n",
       "      <td>Abbott</td>\n",
       "      <td>M</td>\n",
       "      <td>1955.0</td>\n",
       "    </tr>\n",
       "    <tr>\n",
       "      <th>3</th>\n",
       "      <td>toriabbott</td>\n",
       "      <td>Tori</td>\n",
       "      <td>Abbott</td>\n",
       "      <td>F</td>\n",
       "      <td>NaN</td>\n",
       "    </tr>\n",
       "    <tr>\n",
       "      <th>4</th>\n",
       "      <td>jayadlington</td>\n",
       "      <td>Jay</td>\n",
       "      <td>Adlington</td>\n",
       "      <td>M</td>\n",
       "      <td>1975.0</td>\n",
       "    </tr>\n",
       "    <tr>\n",
       "      <th>5</th>\n",
       "      <td>suealexanderash</td>\n",
       "      <td>Sue</td>\n",
       "      <td>Alexander Ash</td>\n",
       "      <td>-</td>\n",
       "      <td>1961.0</td>\n",
       "    </tr>\n",
       "    <tr>\n",
       "      <th>6</th>\n",
       "      <td>christineallan</td>\n",
       "      <td>Christine</td>\n",
       "      <td>Allan</td>\n",
       "      <td>F</td>\n",
       "      <td>1968.0</td>\n",
       "    </tr>\n",
       "  </tbody>\n",
       "</table>\n",
       "</div>"
      ],
      "text/plain": [
       "          racer_id first_name      last_name gender  birth_year\n",
       "2       bradabbott       Brad         Abbott      M      1955.0\n",
       "3       toriabbott       Tori         Abbott      F         NaN\n",
       "4     jayadlington        Jay      Adlington      M      1975.0\n",
       "5  suealexanderash        Sue  Alexander Ash      -      1961.0\n",
       "6   christineallan  Christine          Allan      F      1968.0"
      ]
     },
     "execution_count": 60,
     "metadata": {},
     "output_type": "execute_result"
    }
   ],
   "source": [
    "racers_df = pd.read_csv('data/raw/FnGRacers.csv')\n",
    "racers_df.drop(columns=[\"spouse_id\"],inplace=True)\n",
    "racers_df = drop_nulls(racers_df, \"racer_id\")\n",
    "racers_df[\"racer_id\"]=racers_df.first_name.str.lower() + racers_df.last_name.str.lower()\n",
    "racers_df[\"racer_id\"]=racers_df[\"racer_id\"].apply(clean_string)\n",
    "racers_df.head()"
   ]
  },
  {
   "cell_type": "code",
   "execution_count": 61,
   "id": "80f7c0e5-d858-44df-ab41-1d51b5cfd8c9",
   "metadata": {},
   "outputs": [
    {
     "data": {
      "text/plain": [
       "(309, 5)"
      ]
     },
     "execution_count": 61,
     "metadata": {},
     "output_type": "execute_result"
    }
   ],
   "source": [
    "racers_df.shape"
   ]
  },
  {
   "cell_type": "code",
   "execution_count": 62,
   "id": "b1d1427e-e226-426b-adb5-50de514e5ee1",
   "metadata": {},
   "outputs": [],
   "source": [
    "racers_df.to_sql('Racers', conn, if_exists='replace', index=False)\n",
    "conn.commit()"
   ]
  },
  {
   "cell_type": "markdown",
   "id": "e693e1a3-e753-49ca-9ec6-ce33f26f7ce8",
   "metadata": {},
   "source": [
    "## set up races table"
   ]
  },
  {
   "cell_type": "code",
   "execution_count": 35,
   "id": "478e5072-32df-49dc-8550-af51a0b2d1e2",
   "metadata": {},
   "outputs": [],
   "source": [
    "races_df = pd.read_csv('data/raw/FnGRaces.csv')\n",
    "races_df['race_date'] = pd.to_datetime(races_df['race_date'], format='%m/%d/%Y')"
   ]
  },
  {
   "cell_type": "code",
   "execution_count": 41,
   "id": "3e87fe04-e457-49ac-b633-44516364ddbe",
   "metadata": {},
   "outputs": [],
   "source": [
    "races_df.to_sql('Races', conn, if_exists='replace', index=False)\n",
    "conn.commit()"
   ]
  },
  {
   "cell_type": "code",
   "execution_count": 70,
   "id": "b810addc-19a9-423a-9132-0289a90c27f1",
   "metadata": {},
   "outputs": [
    {
     "data": {
      "text/html": [
       "<div>\n",
       "<style scoped>\n",
       "    .dataframe tbody tr th:only-of-type {\n",
       "        vertical-align: middle;\n",
       "    }\n",
       "\n",
       "    .dataframe tbody tr th {\n",
       "        vertical-align: top;\n",
       "    }\n",
       "\n",
       "    .dataframe thead th {\n",
       "        text-align: right;\n",
       "    }\n",
       "</style>\n",
       "<table border=\"1\" class=\"dataframe\">\n",
       "  <thead>\n",
       "    <tr style=\"text-align: right;\">\n",
       "      <th></th>\n",
       "      <th>race_id</th>\n",
       "      <th>race_date</th>\n",
       "      <th>description</th>\n",
       "    </tr>\n",
       "  </thead>\n",
       "  <tbody>\n",
       "    <tr>\n",
       "      <th>0</th>\n",
       "      <td>3039</td>\n",
       "      <td>2023-02-19</td>\n",
       "      <td>2023 F&amp;G Race#4</td>\n",
       "    </tr>\n",
       "    <tr>\n",
       "      <th>1</th>\n",
       "      <td>3038</td>\n",
       "      <td>2023-02-12</td>\n",
       "      <td>2023 F&amp;G Race#3</td>\n",
       "    </tr>\n",
       "    <tr>\n",
       "      <th>2</th>\n",
       "      <td>3037</td>\n",
       "      <td>2023-02-05</td>\n",
       "      <td>2023 F&amp;G Race#2</td>\n",
       "    </tr>\n",
       "    <tr>\n",
       "      <th>3</th>\n",
       "      <td>3036</td>\n",
       "      <td>2023-01-15</td>\n",
       "      <td>2023 F&amp;G Race#1</td>\n",
       "    </tr>\n",
       "    <tr>\n",
       "      <th>4</th>\n",
       "      <td>3035</td>\n",
       "      <td>2022-12-31</td>\n",
       "      <td>2023 Time Trials</td>\n",
       "    </tr>\n",
       "  </tbody>\n",
       "</table>\n",
       "</div>"
      ],
      "text/plain": [
       "   race_id  race_date       description\n",
       "0     3039 2023-02-19   2023 F&G Race#4\n",
       "1     3038 2023-02-12   2023 F&G Race#3\n",
       "2     3037 2023-02-05   2023 F&G Race#2\n",
       "3     3036 2023-01-15   2023 F&G Race#1\n",
       "4     3035 2022-12-31  2023 Time Trials"
      ]
     },
     "execution_count": 70,
     "metadata": {},
     "output_type": "execute_result"
    }
   ],
   "source": [
    "races_df.head()"
   ]
  },
  {
   "cell_type": "markdown",
   "id": "1e38a24a-a432-46d3-88fe-39223aa5bdb1",
   "metadata": {},
   "source": [
    "## set up race results table:"
   ]
  },
  {
   "cell_type": "code",
   "execution_count": 64,
   "id": "8fd24e04-aac3-42bf-8c99-3122506dcf4e",
   "metadata": {},
   "outputs": [],
   "source": [
    "results_df = pd.read_csv('data/raw/FnGResults.csv')"
   ]
  },
  {
   "cell_type": "code",
   "execution_count": 65,
   "id": "7e75ec55-b656-4968-bd04-43adabf56146",
   "metadata": {},
   "outputs": [],
   "source": [
    "results_df['racer_id'] = (\n",
    "    results_df['racer_id']\n",
    "    .str.split(', ')\n",
    "    .apply(lambda x: x[1].lower() + x[0].lower())\n",
    "    .apply(clean_string)\n",
    ")"
   ]
  },
  {
   "cell_type": "code",
   "execution_count": 72,
   "id": "55ab5eb2-d736-400a-afa8-a4a2334be709",
   "metadata": {},
   "outputs": [],
   "source": [
    "results_df[\"run1\"] = results_df[\"_time\"]\n",
    "results_df[\"run2\"] = np.nan\n",
    "results_df[\"best_time\"] = results_df[\"_time\"]\n",
    "results_df[\"points\"] = np.nan\n",
    "results_df.drop(columns=[\"_time\"],inplace=True)"
   ]
  },
  {
   "cell_type": "code",
   "execution_count": 73,
   "id": "66b7c1e4-c614-490d-9ec9-a1f2a86bd1ac",
   "metadata": {},
   "outputs": [
    {
     "data": {
      "text/html": [
       "<div>\n",
       "<style scoped>\n",
       "    .dataframe tbody tr th:only-of-type {\n",
       "        vertical-align: middle;\n",
       "    }\n",
       "\n",
       "    .dataframe tbody tr th {\n",
       "        vertical-align: top;\n",
       "    }\n",
       "\n",
       "    .dataframe thead th {\n",
       "        text-align: right;\n",
       "    }\n",
       "</style>\n",
       "<table border=\"1\" class=\"dataframe\">\n",
       "  <thead>\n",
       "    <tr style=\"text-align: right;\">\n",
       "      <th></th>\n",
       "      <th>race_id</th>\n",
       "      <th>discipline</th>\n",
       "      <th>racer_id</th>\n",
       "      <th>run1</th>\n",
       "      <th>run2</th>\n",
       "      <th>best_time</th>\n",
       "      <th>points</th>\n",
       "    </tr>\n",
       "  </thead>\n",
       "  <tbody>\n",
       "    <tr>\n",
       "      <th>0</th>\n",
       "      <td>1</td>\n",
       "      <td>SKI</td>\n",
       "      <td>jeffcox</td>\n",
       "      <td>35.82</td>\n",
       "      <td>NaN</td>\n",
       "      <td>35.82</td>\n",
       "      <td>NaN</td>\n",
       "    </tr>\n",
       "    <tr>\n",
       "      <th>1</th>\n",
       "      <td>1</td>\n",
       "      <td>SKI</td>\n",
       "      <td>mcleanwood</td>\n",
       "      <td>36.10</td>\n",
       "      <td>NaN</td>\n",
       "      <td>36.10</td>\n",
       "      <td>NaN</td>\n",
       "    </tr>\n",
       "    <tr>\n",
       "      <th>2</th>\n",
       "      <td>1</td>\n",
       "      <td>SKI</td>\n",
       "      <td>jeffparr</td>\n",
       "      <td>36.95</td>\n",
       "      <td>NaN</td>\n",
       "      <td>36.95</td>\n",
       "      <td>NaN</td>\n",
       "    </tr>\n",
       "    <tr>\n",
       "      <th>3</th>\n",
       "      <td>1</td>\n",
       "      <td>SKI</td>\n",
       "      <td>derekcrawford</td>\n",
       "      <td>36.97</td>\n",
       "      <td>NaN</td>\n",
       "      <td>36.97</td>\n",
       "      <td>NaN</td>\n",
       "    </tr>\n",
       "    <tr>\n",
       "      <th>4</th>\n",
       "      <td>1</td>\n",
       "      <td>SKI</td>\n",
       "      <td>brandonhune</td>\n",
       "      <td>37.93</td>\n",
       "      <td>NaN</td>\n",
       "      <td>37.93</td>\n",
       "      <td>NaN</td>\n",
       "    </tr>\n",
       "  </tbody>\n",
       "</table>\n",
       "</div>"
      ],
      "text/plain": [
       "   race_id discipline       racer_id   run1  run2  best_time  points\n",
       "0        1       SKI         jeffcox  35.82   NaN      35.82     NaN\n",
       "1        1       SKI      mcleanwood  36.10   NaN      36.10     NaN\n",
       "2        1       SKI        jeffparr  36.95   NaN      36.95     NaN\n",
       "3        1       SKI   derekcrawford  36.97   NaN      36.97     NaN\n",
       "4        1       SKI     brandonhune  37.93   NaN      37.93     NaN"
      ]
     },
     "execution_count": 73,
     "metadata": {},
     "output_type": "execute_result"
    }
   ],
   "source": [
    "results_df.head()"
   ]
  },
  {
   "cell_type": "code",
   "execution_count": 75,
   "id": "eb860998-f344-4da0-b7f5-a359aff1f3f9",
   "metadata": {},
   "outputs": [],
   "source": [
    "results_df.to_sql('RaceResults', conn, if_exists='replace', index=False)\n",
    "conn.commit()"
   ]
  },
  {
   "cell_type": "code",
   "execution_count": null,
   "id": "aeb98180-e7f4-4bbd-88db-8a5af35b5713",
   "metadata": {},
   "outputs": [],
   "source": []
  },
  {
   "cell_type": "code",
   "execution_count": null,
   "id": "f077e2d8-6957-4265-9358-d0c96ef66b03",
   "metadata": {},
   "outputs": [],
   "source": []
  },
  {
   "cell_type": "markdown",
   "id": "adbd6962-7853-4025-8443-fbd2927333e5",
   "metadata": {},
   "source": [
    "## set up race team data:"
   ]
  },
  {
   "cell_type": "code",
   "execution_count": 84,
   "id": "dad6ffcc-8bb1-4853-9af0-8d57c18ec908",
   "metadata": {},
   "outputs": [],
   "source": [
    "teams_df = pd.read_csv('data/raw/24FnGStartList.csv')\n",
    "teams_df = drop_nulls(teams_df, \"name\")\n",
    "teams_df[\"racer_id\"] = teams_df[\"name\"].apply(clean_string)\n",
    "teams_df[\"year\"] = 2024"
   ]
  },
  {
   "cell_type": "code",
   "execution_count": 86,
   "id": "9a1c25c8-1031-4bf8-9e61-ba0fac0e025b",
   "metadata": {},
   "outputs": [
    {
     "data": {
      "text/html": [
       "<div>\n",
       "<style scoped>\n",
       "    .dataframe tbody tr th:only-of-type {\n",
       "        vertical-align: middle;\n",
       "    }\n",
       "\n",
       "    .dataframe tbody tr th {\n",
       "        vertical-align: top;\n",
       "    }\n",
       "\n",
       "    .dataframe thead th {\n",
       "        text-align: right;\n",
       "    }\n",
       "</style>\n",
       "<table border=\"1\" class=\"dataframe\">\n",
       "  <thead>\n",
       "    <tr style=\"text-align: right;\">\n",
       "      <th></th>\n",
       "      <th>bib</th>\n",
       "      <th>CAT</th>\n",
       "      <th>name</th>\n",
       "      <th>tier</th>\n",
       "      <th>team</th>\n",
       "      <th>racer_id</th>\n",
       "      <th>year</th>\n",
       "    </tr>\n",
       "  </thead>\n",
       "  <tbody>\n",
       "    <tr>\n",
       "      <th>0</th>\n",
       "      <td>1.0</td>\n",
       "      <td>SKI</td>\n",
       "      <td>Jennifer Hsiung</td>\n",
       "      <td>1.0</td>\n",
       "      <td>Mitch Perreault</td>\n",
       "      <td>JenniferHsiung</td>\n",
       "      <td>2024</td>\n",
       "    </tr>\n",
       "    <tr>\n",
       "      <th>1</th>\n",
       "      <td>2.0</td>\n",
       "      <td>SKI</td>\n",
       "      <td>Maurice Cacho</td>\n",
       "      <td>1.0</td>\n",
       "      <td>Will Carter</td>\n",
       "      <td>MauriceCacho</td>\n",
       "      <td>2024</td>\n",
       "    </tr>\n",
       "    <tr>\n",
       "      <th>2</th>\n",
       "      <td>4.0</td>\n",
       "      <td>SKI</td>\n",
       "      <td>Justin Rosenberg</td>\n",
       "      <td>1.0</td>\n",
       "      <td>Stephanie Coward</td>\n",
       "      <td>JustinRosenberg</td>\n",
       "      <td>2024</td>\n",
       "    </tr>\n",
       "    <tr>\n",
       "      <th>3</th>\n",
       "      <td>5.0</td>\n",
       "      <td>SKI</td>\n",
       "      <td>David Rosenblatt</td>\n",
       "      <td>1.0</td>\n",
       "      <td>Mike McTaggart</td>\n",
       "      <td>DavidRosenblatt</td>\n",
       "      <td>2024</td>\n",
       "    </tr>\n",
       "    <tr>\n",
       "      <th>4</th>\n",
       "      <td>6.0</td>\n",
       "      <td>SKI</td>\n",
       "      <td>Adam Szakacs</td>\n",
       "      <td>1.0</td>\n",
       "      <td>Don French</td>\n",
       "      <td>AdamSzakacs</td>\n",
       "      <td>2024</td>\n",
       "    </tr>\n",
       "    <tr>\n",
       "      <th>...</th>\n",
       "      <td>...</td>\n",
       "      <td>...</td>\n",
       "      <td>...</td>\n",
       "      <td>...</td>\n",
       "      <td>...</td>\n",
       "      <td>...</td>\n",
       "      <td>...</td>\n",
       "    </tr>\n",
       "    <tr>\n",
       "      <th>95</th>\n",
       "      <td>119.0</td>\n",
       "      <td>SNBD</td>\n",
       "      <td>Jenna Livingston</td>\n",
       "      <td>13.0</td>\n",
       "      <td>Stephanie Coward</td>\n",
       "      <td>JennaLivingston</td>\n",
       "      <td>2024</td>\n",
       "    </tr>\n",
       "    <tr>\n",
       "      <th>96</th>\n",
       "      <td>120.0</td>\n",
       "      <td>SNBD</td>\n",
       "      <td>Hannah Kilmer Choi</td>\n",
       "      <td>13.0</td>\n",
       "      <td>Will Carter</td>\n",
       "      <td>HannahKilmerChoi</td>\n",
       "      <td>2024</td>\n",
       "    </tr>\n",
       "    <tr>\n",
       "      <th>97</th>\n",
       "      <td>121.0</td>\n",
       "      <td>SNBD</td>\n",
       "      <td>Graham Ramshaw</td>\n",
       "      <td>13.0</td>\n",
       "      <td>Graham Ramshaw</td>\n",
       "      <td>GrahamRamshaw</td>\n",
       "      <td>2024</td>\n",
       "    </tr>\n",
       "    <tr>\n",
       "      <th>98</th>\n",
       "      <td>122.0</td>\n",
       "      <td>SNBD</td>\n",
       "      <td>Kevin Kilmer Choi</td>\n",
       "      <td>13.0</td>\n",
       "      <td>Adam Grossman</td>\n",
       "      <td>KevinKilmerChoi</td>\n",
       "      <td>2024</td>\n",
       "    </tr>\n",
       "    <tr>\n",
       "      <th>99</th>\n",
       "      <td>123.0</td>\n",
       "      <td>SNBD</td>\n",
       "      <td>Bernard Oegema</td>\n",
       "      <td>13.0</td>\n",
       "      <td>Don French</td>\n",
       "      <td>BernardOegema</td>\n",
       "      <td>2024</td>\n",
       "    </tr>\n",
       "  </tbody>\n",
       "</table>\n",
       "<p>100 rows × 7 columns</p>\n",
       "</div>"
      ],
      "text/plain": [
       "      bib   CAT                name  tier              team          racer_id  \\\n",
       "0     1.0   SKI     Jennifer Hsiung   1.0   Mitch Perreault    JenniferHsiung   \n",
       "1     2.0   SKI       Maurice Cacho   1.0       Will Carter      MauriceCacho   \n",
       "2     4.0   SKI    Justin Rosenberg   1.0  Stephanie Coward   JustinRosenberg   \n",
       "3     5.0   SKI    David Rosenblatt   1.0    Mike McTaggart   DavidRosenblatt   \n",
       "4     6.0   SKI        Adam Szakacs   1.0       Don French        AdamSzakacs   \n",
       "..    ...   ...                 ...   ...               ...               ...   \n",
       "95  119.0  SNBD    Jenna Livingston  13.0  Stephanie Coward   JennaLivingston   \n",
       "96  120.0  SNBD  Hannah Kilmer Choi  13.0       Will Carter  HannahKilmerChoi   \n",
       "97  121.0  SNBD      Graham Ramshaw  13.0   Graham Ramshaw      GrahamRamshaw   \n",
       "98  122.0  SNBD   Kevin Kilmer Choi  13.0     Adam Grossman   KevinKilmerChoi   \n",
       "99  123.0  SNBD      Bernard Oegema  13.0       Don French      BernardOegema   \n",
       "\n",
       "    year  \n",
       "0   2024  \n",
       "1   2024  \n",
       "2   2024  \n",
       "3   2024  \n",
       "4   2024  \n",
       "..   ...  \n",
       "95  2024  \n",
       "96  2024  \n",
       "97  2024  \n",
       "98  2024  \n",
       "99  2024  \n",
       "\n",
       "[100 rows x 7 columns]"
      ]
     },
     "execution_count": 86,
     "metadata": {},
     "output_type": "execute_result"
    }
   ],
   "source": [
    "teams_df"
   ]
  },
  {
   "cell_type": "code",
   "execution_count": 87,
   "id": "6972e382-62de-4c92-933d-079d441d8028",
   "metadata": {},
   "outputs": [],
   "source": [
    "teams_df.to_sql('Teams', conn, if_exists='replace', index=False)\n",
    "conn.commit()"
   ]
  },
  {
   "cell_type": "code",
   "execution_count": null,
   "id": "7ee78768-614f-4846-9c4a-08f14969562f",
   "metadata": {},
   "outputs": [],
   "source": []
  },
  {
   "cell_type": "markdown",
   "id": "571024b7-90fe-4b59-a406-abf8e863166a",
   "metadata": {},
   "source": [
    "## Functions to upload results"
   ]
  },
  {
   "cell_type": "code",
   "execution_count": null,
   "id": "dc64574f-d1b1-4587-b2bb-a54870dd6278",
   "metadata": {},
   "outputs": [],
   "source": []
  },
  {
   "cell_type": "code",
   "execution_count": null,
   "id": "9fc156fb-8797-4f96-b0d2-12722e962f5c",
   "metadata": {},
   "outputs": [],
   "source": []
  },
  {
   "cell_type": "code",
   "execution_count": null,
   "id": "3710da0d-5192-43f2-a76a-aaaedd11c44e",
   "metadata": {},
   "outputs": [],
   "source": []
  },
  {
   "cell_type": "code",
   "execution_count": null,
   "id": "13954d75-30fa-49af-8154-22755676a068",
   "metadata": {},
   "outputs": [],
   "source": []
  },
  {
   "cell_type": "code",
   "execution_count": null,
   "id": "01460145-2c19-4080-a9c7-f9d8d587df98",
   "metadata": {},
   "outputs": [],
   "source": []
  },
  {
   "cell_type": "markdown",
   "id": "5e03afa6-876f-4e34-9884-771984e8f821",
   "metadata": {},
   "source": [
    "## basic views we want to display:"
   ]
  },
  {
   "cell_type": "code",
   "execution_count": null,
   "id": "8c4ce7ac-2ef6-4677-93b7-ada26b6da874",
   "metadata": {},
   "outputs": [],
   "source": []
  },
  {
   "cell_type": "code",
   "execution_count": null,
   "id": "a02c0228-0770-4af4-bb32-58d334628b56",
   "metadata": {},
   "outputs": [],
   "source": []
  },
  {
   "cell_type": "code",
   "execution_count": 6,
   "id": "f5bf8f2b-bfc4-4b4f-81ae-4fc88a25995a",
   "metadata": {},
   "outputs": [],
   "source": [
    "# Commit the changes and close the connection\n",
    "conn.commit()\n",
    "conn.close()"
   ]
  },
  {
   "cell_type": "code",
   "execution_count": 43,
   "id": "74cb1980-c03d-4b81-b3a6-b1d33119ba26",
   "metadata": {},
   "outputs": [
    {
     "name": "stdout",
     "output_type": "stream",
     "text": [
      "Racers Table:\n"
     ]
    },
    {
     "data": {
      "text/html": [
       "<div>\n",
       "<style scoped>\n",
       "    .dataframe tbody tr th:only-of-type {\n",
       "        vertical-align: middle;\n",
       "    }\n",
       "\n",
       "    .dataframe tbody tr th {\n",
       "        vertical-align: top;\n",
       "    }\n",
       "\n",
       "    .dataframe thead th {\n",
       "        text-align: right;\n",
       "    }\n",
       "</style>\n",
       "<table border=\"1\" class=\"dataframe\">\n",
       "  <thead>\n",
       "    <tr style=\"text-align: right;\">\n",
       "      <th></th>\n",
       "      <th>racer_id</th>\n",
       "      <th>first_name</th>\n",
       "      <th>last_name</th>\n",
       "      <th>gender</th>\n",
       "      <th>birth_year</th>\n",
       "    </tr>\n",
       "  </thead>\n",
       "  <tbody>\n",
       "    <tr>\n",
       "      <th>0</th>\n",
       "      <td>bradabbott</td>\n",
       "      <td>Brad</td>\n",
       "      <td>Abbott</td>\n",
       "      <td>M</td>\n",
       "      <td>1955.0</td>\n",
       "    </tr>\n",
       "    <tr>\n",
       "      <th>1</th>\n",
       "      <td>toriabbott</td>\n",
       "      <td>Tori</td>\n",
       "      <td>Abbott</td>\n",
       "      <td>F</td>\n",
       "      <td>NaN</td>\n",
       "    </tr>\n",
       "    <tr>\n",
       "      <th>2</th>\n",
       "      <td>jayadlington</td>\n",
       "      <td>Jay</td>\n",
       "      <td>Adlington</td>\n",
       "      <td>M</td>\n",
       "      <td>1975.0</td>\n",
       "    </tr>\n",
       "    <tr>\n",
       "      <th>3</th>\n",
       "      <td>suealexander ash</td>\n",
       "      <td>Sue</td>\n",
       "      <td>Alexander Ash</td>\n",
       "      <td>-</td>\n",
       "      <td>1961.0</td>\n",
       "    </tr>\n",
       "    <tr>\n",
       "      <th>4</th>\n",
       "      <td>christineallan</td>\n",
       "      <td>Christine</td>\n",
       "      <td>Allan</td>\n",
       "      <td>F</td>\n",
       "      <td>1968.0</td>\n",
       "    </tr>\n",
       "  </tbody>\n",
       "</table>\n",
       "</div>"
      ],
      "text/plain": [
       "           racer_id first_name      last_name gender  birth_year\n",
       "0        bradabbott       Brad         Abbott      M      1955.0\n",
       "1        toriabbott       Tori         Abbott      F         NaN\n",
       "2      jayadlington        Jay      Adlington      M      1975.0\n",
       "3  suealexander ash        Sue  Alexander Ash      -      1961.0\n",
       "4    christineallan  Christine          Allan      F      1968.0"
      ]
     },
     "execution_count": 43,
     "metadata": {},
     "output_type": "execute_result"
    }
   ],
   "source": [
    "# 1. Query to view all racers\n",
    "racers_query = \"SELECT * FROM Racers\"\n",
    "racers_df = pd.read_sql_query(racers_query, conn)\n",
    "print(\"Racers Table:\")\n",
    "racers_df.head()"
   ]
  },
  {
   "cell_type": "code",
   "execution_count": null,
   "id": "78f11abc-e843-4da3-9540-60c1e615daa7",
   "metadata": {},
   "outputs": [],
   "source": []
  },
  {
   "cell_type": "code",
   "execution_count": null,
   "id": "adabb771-ae49-47fe-aad2-de477881f2a0",
   "metadata": {},
   "outputs": [],
   "source": []
  },
  {
   "cell_type": "code",
   "execution_count": null,
   "id": "c3fb89de-62ee-4f0d-b8c8-c655102bf9a8",
   "metadata": {},
   "outputs": [],
   "source": [
    "\n",
    "\n",
    "# Commit the changes and close the connection\n",
    "conn.commit()\n",
    "conn.close()\n"
   ]
  }
 ],
 "metadata": {
  "kernelspec": {
   "display_name": "Python 3 (ipykernel)",
   "language": "python",
   "name": "python3"
  },
  "language_info": {
   "codemirror_mode": {
    "name": "ipython",
    "version": 3
   },
   "file_extension": ".py",
   "mimetype": "text/x-python",
   "name": "python",
   "nbconvert_exporter": "python",
   "pygments_lexer": "ipython3",
   "version": "3.10.15"
  }
 },
 "nbformat": 4,
 "nbformat_minor": 5
}
