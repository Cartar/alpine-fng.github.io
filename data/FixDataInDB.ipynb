{
 "cells": [
  {
   "cell_type": "markdown",
   "id": "98744e40-5ca2-4d61-92aa-be0e521a19b1",
   "metadata": {},
   "source": [
    "# Creating this notebook to manually fix issues in the DB as they come up!"
   ]
  },
  {
   "cell_type": "markdown",
   "id": "86c2a78b-bcad-4e55-8e98-6af110a3a738",
   "metadata": {},
   "source": [
    "## Fix 1: discipline strings\n",
    "extra whitespace in the discipline values"
   ]
  },
  {
   "cell_type": "code",
   "execution_count": 1,
   "id": "583eb7c7-23bc-4077-ba04-81034ea6cd81",
   "metadata": {},
   "outputs": [],
   "source": [
    "import pandas as pd\n",
    "import numpy as np\n",
    "import sqlite3\n",
    "\n",
    "from queries import get_race_data, get_point_total, get_races_list, audit_df, get_race_years"
   ]
  },
  {
   "cell_type": "code",
   "execution_count": 2,
   "id": "707432de-1cae-4398-8c0f-a2978eb9e556",
   "metadata": {},
   "outputs": [],
   "source": [
    "# Set the database path to a location with write permissions\n",
    "db_path = '../race_league_results.db'\n",
    "\n",
    "# Connect to SQLite database (or create it if it doesn't exist)\n",
    "conn = sqlite3.connect(db_path)\n",
    "cursor = conn.cursor()\n"
   ]
  },
  {
   "cell_type": "code",
   "execution_count": 14,
   "id": "44177850-7d37-4d0d-bc6e-fcb1519784a0",
   "metadata": {},
   "outputs": [],
   "source": [
    "sql = \"\"\"\n",
    "UPDATE RaceResults\n",
    "SET discipline = TRIM(discipline);\n",
    "\"\"\"\n",
    "\n",
    "cursor = conn.cursor()\n",
    "cursor.execute(sql)\n",
    "conn.commit()"
   ]
  },
  {
   "cell_type": "code",
   "execution_count": 15,
   "id": "e75e3a1e-6ac0-4785-a932-076b347a39eb",
   "metadata": {},
   "outputs": [],
   "source": [
    "sql = \"\"\"\n",
    "select discipline, COUNT(*)\n",
    "from RaceResults\n",
    "group by 1;\n",
    "\"\"\"\n",
    "df = pd.read_sql(sql, conn)"
   ]
  },
  {
   "cell_type": "code",
   "execution_count": 16,
   "id": "e3d188c5-e2c4-4f73-af43-406508fb0a7a",
   "metadata": {},
   "outputs": [
    {
     "data": {
      "text/html": [
       "<div>\n",
       "<style scoped>\n",
       "    .dataframe tbody tr th:only-of-type {\n",
       "        vertical-align: middle;\n",
       "    }\n",
       "\n",
       "    .dataframe tbody tr th {\n",
       "        vertical-align: top;\n",
       "    }\n",
       "\n",
       "    .dataframe thead th {\n",
       "        text-align: right;\n",
       "    }\n",
       "</style>\n",
       "<table border=\"1\" class=\"dataframe\">\n",
       "  <thead>\n",
       "    <tr style=\"text-align: right;\">\n",
       "      <th></th>\n",
       "      <th>discipline</th>\n",
       "      <th>COUNT(*)</th>\n",
       "    </tr>\n",
       "  </thead>\n",
       "  <tbody>\n",
       "    <tr>\n",
       "      <th>0</th>\n",
       "      <td>None</td>\n",
       "      <td>16</td>\n",
       "    </tr>\n",
       "    <tr>\n",
       "      <th>1</th>\n",
       "      <td>SKI</td>\n",
       "      <td>3900</td>\n",
       "    </tr>\n",
       "    <tr>\n",
       "      <th>2</th>\n",
       "      <td>SNBD</td>\n",
       "      <td>701</td>\n",
       "    </tr>\n",
       "  </tbody>\n",
       "</table>\n",
       "</div>"
      ],
      "text/plain": [
       "  discipline  COUNT(*)\n",
       "0       None        16\n",
       "1        SKI      3900\n",
       "2       SNBD       701"
      ]
     },
     "execution_count": 16,
     "metadata": {},
     "output_type": "execute_result"
    }
   ],
   "source": [
    "df"
   ]
  },
  {
   "cell_type": "code",
   "execution_count": null,
   "id": "c88dbe7a-d993-49a9-871c-5d85e6020c3f",
   "metadata": {},
   "outputs": [],
   "source": []
  },
  {
   "cell_type": "markdown",
   "id": "aaf5cf0d-ba46-497f-b839-2630adc1be12",
   "metadata": {},
   "source": [
    "## Fix Jeffrey Solomon's name...\n",
    "already fixed the csv file."
   ]
  },
  {
   "cell_type": "code",
   "execution_count": 82,
   "id": "f695f31f-7c83-491f-a31b-8a71e98eb4ef",
   "metadata": {},
   "outputs": [],
   "source": [
    "sql = \"\"\"\n",
    "UPDATE RaceResults\n",
    "SET racer_id = 'jeffreysolomon'\n",
    "WHERE racer_id = 'jefferysolomon';\n",
    "\"\"\"\n",
    "\n",
    "cursor = conn.cursor()\n",
    "cursor.execute(sql)\n",
    "conn.commit()"
   ]
  },
  {
   "cell_type": "code",
   "execution_count": null,
   "id": "a22f2254-ac35-45f4-bcea-4a28adc64798",
   "metadata": {},
   "outputs": [],
   "source": []
  }
 ],
 "metadata": {
  "kernelspec": {
   "display_name": "Python 3 (ipykernel)",
   "language": "python",
   "name": "python3"
  },
  "language_info": {
   "codemirror_mode": {
    "name": "ipython",
    "version": 3
   },
   "file_extension": ".py",
   "mimetype": "text/x-python",
   "name": "python",
   "nbconvert_exporter": "python",
   "pygments_lexer": "ipython3",
   "version": "3.10.15"
  }
 },
 "nbformat": 4,
 "nbformat_minor": 5
}
